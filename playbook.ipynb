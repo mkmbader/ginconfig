{
 "cells": [
  {
   "cell_type": "code",
   "execution_count": 1,
   "metadata": {},
   "outputs": [],
   "source": [
    "import pandas as pd\n",
    "import gin\n",
    "gin.enter_interactive_mode() # allows to change decorated functions\n",
    "import random\n",
    "\n"
   ]
  },
  {
   "attachments": {},
   "cell_type": "markdown",
   "metadata": {},
   "source": [
    "Pro:\n",
    "- easy to define stuff, no need for referencing\n",
    "- no annoying nested referencing\n",
    "\n",
    "Con:\n",
    "- no type hinting (mandatory types)\n",
    "- need to list all decorated functions at the start"
   ]
  },
  {
   "attachments": {},
   "cell_type": "markdown",
   "metadata": {},
   "source": [
    "# Functions"
   ]
  },
  {
   "attachments": {},
   "cell_type": "markdown",
   "metadata": {},
   "source": [
    "The .REQUIRED statement makes specifying the variable name mandatory if using a config-file.\n",
    "Problem: what about type-hinting?"
   ]
  },
  {
   "cell_type": "code",
   "execution_count": 2,
   "metadata": {},
   "outputs": [
    {
     "data": {
      "text/plain": [
       "<function random.Random.uniform(a, b)>"
      ]
     },
     "execution_count": 2,
     "metadata": {},
     "output_type": "execute_result"
    }
   ],
   "source": [
    "@gin.configurable\n",
    "def hello_world(name:str=gin.REQUIRED, loc:str=gin.REQUIRED):\n",
    "    print('Hello %s, %s' %(name, loc))\n",
    "    return\n",
    "\n",
    "@gin.configurable\n",
    "def random_value(min, max):\n",
    "    return random.uniform(min,max)\n",
    "\n",
    "@gin.configurable\n",
    "def function2(name = gin.REQUIRED, func_random = gin.REQUIRED):\n",
    "    print(name, ' likes ', func_random(0,1))\n",
    "\n",
    "@gin.configurable\n",
    "def function3(name = gin.REQUIRED, func_random3 = gin.REQUIRED):\n",
    "    print(name, ' likes ', func_random3())\n",
    "    return\n",
    "\n",
    "gin.external_configurable(random.uniform)"
   ]
  },
  {
   "attachments": {},
   "cell_type": "markdown",
   "metadata": {},
   "source": [
    "First simple example: using a function with and without gin-config.\n",
    "Interesting: local hardcoded function arguments overwrite config settings :)"
   ]
  },
  {
   "cell_type": "code",
   "execution_count": 3,
   "metadata": {},
   "outputs": [
    {
     "name": "stdout",
     "output_type": "stream",
     "text": [
      "Hello world, right now\n",
      "Hello 17, 13\n",
      "Hello world, at home\n",
      "Hello Mary, Amsterdam\n",
      "Hello Mary, at home\n"
     ]
    }
   ],
   "source": [
    "gin.parse_config_file('config-notebook.gin')\n",
    "\n",
    "hello_world('world', 'right now') # gin stuff is overwritten\n",
    "hello_world(17, 13) # no mandatory types \n",
    "hello_world('world', gin.REQUIRED) # -> partly overwrite NOT possible\n",
    "hello_world(name =gin.REQUIRED, loc = 'Amsterdam') # -> partly overwrite NOT possible\n",
    "hello_world() # all config\n",
    "\n",
    "# black list can be used to avoid overwriting by gin"
   ]
  },
  {
   "attachments": {},
   "cell_type": "markdown",
   "metadata": {},
   "source": [
    "functions in config\n"
   ]
  },
  {
   "cell_type": "code",
   "execution_count": 4,
   "metadata": {},
   "outputs": [
    {
     "name": "stdout",
     "output_type": "stream",
     "text": [
      "Mary  likes  0.05251547453823091\n"
     ]
    }
   ],
   "source": [
    "function2()"
   ]
  },
  {
   "attachments": {},
   "cell_type": "markdown",
   "metadata": {},
   "source": [
    "this is nice, because we can use it for classes as well! We don't need to define functions/modules in order to use them through gin"
   ]
  },
  {
   "attachments": {},
   "cell_type": "markdown",
   "metadata": {},
   "source": [
    "first define all your @configurables\n",
    "\n",
    "define all external configurators -> it matters\n",
    "\n",
    "then parse the config file\n",
    "\n",
    "then run the code\n",
    "\n",
    "-> the order matters\n"
   ]
  },
  {
   "attachments": {},
   "cell_type": "markdown",
   "metadata": {},
   "source": [
    "what if we want to reuse this function, with different parameters?"
   ]
  },
  {
   "cell_type": "code",
   "execution_count": 5,
   "metadata": {},
   "outputs": [
    {
     "name": "stderr",
     "output_type": "stream",
     "text": [
      "ERROR:root:Path not found: config.gin\n"
     ]
    },
    {
     "ename": "OSError",
     "evalue": "Unable to open file: config.gin. Searched config paths: [''].",
     "output_type": "error",
     "traceback": [
      "\u001b[0;31m---------------------------------------------------------------------------\u001b[0m",
      "\u001b[0;31mOSError\u001b[0m                                   Traceback (most recent call last)",
      "\u001b[1;32m/gcs/mol-data-ml-prod-demo-mariabader/ginconfig/playbook.ipynb Cell 13\u001b[0m in \u001b[0;36m3\n\u001b[1;32m      <a href='vscode-notebook-cell://ssh-remote%2Bmariabader-prod-demo/gcs/mol-data-ml-prod-demo-mariabader/ginconfig/playbook.ipynb#X15sdnNjb2RlLXJlbW90ZQ%3D%3D?line=0'>1</a>\u001b[0m \u001b[39m# extract value\u001b[39;00m\n\u001b[1;32m      <a href='vscode-notebook-cell://ssh-remote%2Bmariabader-prod-demo/gcs/mol-data-ml-prod-demo-mariabader/ginconfig/playbook.ipynb#X15sdnNjb2RlLXJlbW90ZQ%3D%3D?line=1'>2</a>\u001b[0m \u001b[39m# gin.query_parameter('random.uniform.a')\u001b[39;00m\n\u001b[0;32m----> <a href='vscode-notebook-cell://ssh-remote%2Bmariabader-prod-demo/gcs/mol-data-ml-prod-demo-mariabader/ginconfig/playbook.ipynb#X15sdnNjb2RlLXJlbW90ZQ%3D%3D?line=2'>3</a>\u001b[0m gin\u001b[39m.\u001b[39;49mparse_config_file(\u001b[39m'\u001b[39;49m\u001b[39mconfig.gin\u001b[39;49m\u001b[39m'\u001b[39;49m)\n\u001b[1;32m      <a href='vscode-notebook-cell://ssh-remote%2Bmariabader-prod-demo/gcs/mol-data-ml-prod-demo-mariabader/ginconfig/playbook.ipynb#X15sdnNjb2RlLXJlbW90ZQ%3D%3D?line=4'>5</a>\u001b[0m \u001b[39mwith\u001b[39;00m gin\u001b[39m.\u001b[39mconfig_scope(\u001b[39m'\u001b[39m\u001b[39mmary\u001b[39m\u001b[39m'\u001b[39m):\n\u001b[1;32m      <a href='vscode-notebook-cell://ssh-remote%2Bmariabader-prod-demo/gcs/mol-data-ml-prod-demo-mariabader/ginconfig/playbook.ipynb#X15sdnNjb2RlLXJlbW90ZQ%3D%3D?line=5'>6</a>\u001b[0m     function3()\n",
      "File \u001b[0;32m~/.cache/pypoetry/virtualenvs/ginconfig-Vpn83sph-py3.9/lib/python3.9/site-packages/gin/config.py:2457\u001b[0m, in \u001b[0;36mparse_config_file\u001b[0;34m(config_file, skip_unknown, print_includes_and_imports)\u001b[0m\n\u001b[1;32m   2455\u001b[0m         \u001b[39mreturn\u001b[39;00m results\n\u001b[1;32m   2456\u001b[0m err_str \u001b[39m=\u001b[39m \u001b[39m'\u001b[39m\u001b[39mUnable to open file: \u001b[39m\u001b[39m{}\u001b[39;00m\u001b[39m. Searched config paths: \u001b[39m\u001b[39m{}\u001b[39;00m\u001b[39m.\u001b[39m\u001b[39m'\u001b[39m\n\u001b[0;32m-> 2457\u001b[0m \u001b[39mraise\u001b[39;00m \u001b[39mIOError\u001b[39;00m(err_str\u001b[39m.\u001b[39mformat(config_file, prefixes))\n",
      "\u001b[0;31mOSError\u001b[0m: Unable to open file: config.gin. Searched config paths: ['']."
     ]
    }
   ],
   "source": [
    "# extract value\n",
    "# gin.query_parameter('random.uniform.a')\n",
    "gin.parse_config_file('config.gin')\n",
    "\n",
    "with gin.config_scope('mary'):\n",
    "    function3()"
   ]
  },
  {
   "attachments": {},
   "cell_type": "markdown",
   "metadata": {},
   "source": [
    "What about using macro values, so the same variable at several points?"
   ]
  },
  {
   "cell_type": "code",
   "execution_count": 28,
   "metadata": {},
   "outputs": [
    {
     "name": "stdout",
     "output_type": "stream",
     "text": [
      "lary  likes  5.242408465253599\n"
     ]
    }
   ],
   "source": [
    "gin.parse_config_file('config.gin')\n",
    "\n",
    "with gin.config_scope('wary'):\n",
    "    function3()"
   ]
  },
  {
   "cell_type": "code",
   "execution_count": null,
   "metadata": {},
   "outputs": [],
   "source": []
  },
  {
   "cell_type": "code",
   "execution_count": null,
   "metadata": {},
   "outputs": [],
   "source": []
  }
 ],
 "metadata": {
  "kernelspec": {
   "display_name": "gin-kernel",
   "language": "python",
   "name": "gin-kernel"
  },
  "language_info": {
   "codemirror_mode": {
    "name": "ipython",
    "version": 3
   },
   "file_extension": ".py",
   "mimetype": "text/x-python",
   "name": "python",
   "nbconvert_exporter": "python",
   "pygments_lexer": "ipython3",
   "version": "3.9.16"
  },
  "orig_nbformat": 4
 },
 "nbformat": 4,
 "nbformat_minor": 2
}
