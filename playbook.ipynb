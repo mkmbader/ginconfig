{
 "cells": [
  {
   "cell_type": "code",
   "execution_count": 1,
   "metadata": {},
   "outputs": [],
   "source": [
    "import pandas as pd\n",
    "import gin\n",
    "gin.enter_interactive_mode() # allows to change decorated functions\n",
    "import random\n",
    "\n"
   ]
  },
  {
   "attachments": {},
   "cell_type": "markdown",
   "metadata": {},
   "source": [
    "Pro:\n",
    "- easy to define stuff, no need for referencing\n",
    "- no annoying nested referencing\n",
    "\n",
    "Con:\n",
    "- no type hinting (mandatory types)\n",
    "- need to list all decorated functions at the start"
   ]
  },
  {
   "attachments": {},
   "cell_type": "markdown",
   "metadata": {},
   "source": [
    "# Functions"
   ]
  },
  {
   "attachments": {},
   "cell_type": "markdown",
   "metadata": {},
   "source": [
    "The .REQUIRED statement makes specifying the variable name mandatory if using a config-file.\n",
    "Problem: what about type-hinting?"
   ]
  },
  {
   "cell_type": "code",
   "execution_count": 3,
   "metadata": {},
   "outputs": [
    {
     "data": {
      "text/plain": [
       "<function random.Random.uniform(a, b)>"
      ]
     },
     "execution_count": 3,
     "metadata": {},
     "output_type": "execute_result"
    }
   ],
   "source": [
    "@gin.configurable\n",
    "def hello_world(name:str=gin.REQUIRED, loc:str=gin.REQUIRED):\n",
    "    print('Hello %s, %s' %(name, loc))\n",
    "    return\n",
    "\n",
    "@gin.configurable\n",
    "def random_value(min, max):\n",
    "    return random.uniform(min,max)\n",
    "\n",
    "@gin.configurable\n",
    "def function2(name = gin.REQUIRED, func_random = gin.REQUIRED):\n",
    "    print(name, ' likes ', func_random(0,1))\n",
    "\n",
    "@gin.configurable\n",
    "def function3(name = gin.REQUIRED, func_random3 = gin.REQUIRED):\n",
    "    print(name, ' likes ', func_random3())\n",
    "    return\n",
    "\n",
    "gin.external_configurable(random.uniform)"
   ]
  },
  {
   "attachments": {},
   "cell_type": "markdown",
   "metadata": {},
   "source": [
    "First simple example: using a function with and without gin-config.\n",
    "Interesting: local hardcoded function arguments overwrite config settings :)"
   ]
  },
  {
   "cell_type": "code",
   "execution_count": 4,
   "metadata": {},
   "outputs": [
    {
     "name": "stdout",
     "output_type": "stream",
     "text": [
      "Hello world, right now\n",
      "Hello 17, 13\n",
      "Hello world, at home\n",
      "Hello Mary, Amsterdam\n",
      "Hello Mary, at home\n"
     ]
    }
   ],
   "source": [
    "gin.parse_config_file('config.gin')\n",
    "\n",
    "hello_world('world', 'right now') # gin stuff is overwritten\n",
    "hello_world(17, 13) # no mandatory types \n",
    "hello_world('world', gin.REQUIRED) # -> partly overwrite NOT possible\n",
    "hello_world(name =gin.REQUIRED, loc = 'Amsterdam') # -> partly overwrite NOT possible\n",
    "hello_world() # all config\n",
    "\n",
    "# black list can be used to avoid overwriting by gin"
   ]
  },
  {
   "attachments": {},
   "cell_type": "markdown",
   "metadata": {},
   "source": [
    "functions in config\n"
   ]
  },
  {
   "cell_type": "code",
   "execution_count": 10,
   "metadata": {},
   "outputs": [
    {
     "name": "stdout",
     "output_type": "stream",
     "text": [
      "Mary  likes  0.28805449595100774\n"
     ]
    }
   ],
   "source": [
    "function2()"
   ]
  },
  {
   "attachments": {},
   "cell_type": "markdown",
   "metadata": {},
   "source": [
    "this is nice, because we can use it for classes as well! We don't need to define functions/modules in order to use them through gin"
   ]
  },
  {
   "cell_type": "code",
   "execution_count": 14,
   "metadata": {},
   "outputs": [
    {
     "ename": "ValueError",
     "evalue": "Configurable 'random.uniform' has no bound parameters.",
     "output_type": "error",
     "traceback": [
      "\u001b[0;31m---------------------------------------------------------------------------\u001b[0m",
      "\u001b[0;31mValueError\u001b[0m                                Traceback (most recent call last)",
      "\u001b[1;32m/gcs/mol-data-ml-prod-demo-mariabader/ginconfig/playbook.ipynb Cell 11\u001b[0m in \u001b[0;36m2\n\u001b[1;32m      <a href='vscode-notebook-cell://ssh-remote%2Bmariabader-prod-demo/gcs/mol-data-ml-prod-demo-mariabader/ginconfig/playbook.ipynb#X23sdnNjb2RlLXJlbW90ZQ%3D%3D?line=0'>1</a>\u001b[0m \u001b[39m# extract value\u001b[39;00m\n\u001b[0;32m----> <a href='vscode-notebook-cell://ssh-remote%2Bmariabader-prod-demo/gcs/mol-data-ml-prod-demo-mariabader/ginconfig/playbook.ipynb#X23sdnNjb2RlLXJlbW90ZQ%3D%3D?line=1'>2</a>\u001b[0m gin\u001b[39m.\u001b[39;49mquery_parameter(\u001b[39m'\u001b[39;49m\u001b[39mrandom.uniform.a\u001b[39;49m\u001b[39m'\u001b[39;49m)\n\u001b[1;32m      <a href='vscode-notebook-cell://ssh-remote%2Bmariabader-prod-demo/gcs/mol-data-ml-prod-demo-mariabader/ginconfig/playbook.ipynb#X23sdnNjb2RlLXJlbW90ZQ%3D%3D?line=4'>5</a>\u001b[0m \u001b[39mwith\u001b[39;00m gin\u001b[39m.\u001b[39mconfig_scope(\u001b[39m'\u001b[39m\u001b[39mmary\u001b[39m\u001b[39m'\u001b[39m):\n\u001b[1;32m      <a href='vscode-notebook-cell://ssh-remote%2Bmariabader-prod-demo/gcs/mol-data-ml-prod-demo-mariabader/ginconfig/playbook.ipynb#X23sdnNjb2RlLXJlbW90ZQ%3D%3D?line=5'>6</a>\u001b[0m     function3()\n",
      "File \u001b[0;32m~/.cache/pypoetry/virtualenvs/ginconfig-Vpn83sph-py3.9/lib/python3.9/site-packages/gin/config.py:1086\u001b[0m, in \u001b[0;36mquery_parameter\u001b[0;34m(binding_key)\u001b[0m\n\u001b[1;32m   1084\u001b[0m \u001b[39mif\u001b[39;00m pbk\u001b[39m.\u001b[39mconfig_key \u001b[39mnot\u001b[39;00m \u001b[39min\u001b[39;00m _CONFIG:\n\u001b[1;32m   1085\u001b[0m   err_str \u001b[39m=\u001b[39m \u001b[39m\"\u001b[39m\u001b[39mConfigurable \u001b[39m\u001b[39m'\u001b[39m\u001b[39m{}\u001b[39;00m\u001b[39m'\u001b[39m\u001b[39m has no bound parameters.\u001b[39m\u001b[39m\"\u001b[39m\n\u001b[0;32m-> 1086\u001b[0m   \u001b[39mraise\u001b[39;00m \u001b[39mValueError\u001b[39;00m(err_str\u001b[39m.\u001b[39mformat(pbk\u001b[39m.\u001b[39mgiven_selector))\n\u001b[1;32m   1087\u001b[0m \u001b[39mif\u001b[39;00m pbk\u001b[39m.\u001b[39marg_name \u001b[39mnot\u001b[39;00m \u001b[39min\u001b[39;00m _CONFIG[pbk\u001b[39m.\u001b[39mconfig_key]:\n\u001b[1;32m   1088\u001b[0m   err_str \u001b[39m=\u001b[39m \u001b[39m\"\u001b[39m\u001b[39mConfigurable \u001b[39m\u001b[39m'\u001b[39m\u001b[39m{}\u001b[39;00m\u001b[39m'\u001b[39m\u001b[39m has no value bound for parameter \u001b[39m\u001b[39m'\u001b[39m\u001b[39m{}\u001b[39;00m\u001b[39m'\u001b[39m\u001b[39m.\u001b[39m\u001b[39m\"\u001b[39m\n",
      "\u001b[0;31mValueError\u001b[0m: Configurable 'random.uniform' has no bound parameters."
     ]
    }
   ],
   "source": [
    "# extract value\n",
    "# gin.query_parameter('random.uniform.a')\n",
    "\n",
    "\n",
    "with gin.config_scope('mary'):\n",
    "    function3()"
   ]
  },
  {
   "attachments": {},
   "cell_type": "markdown",
   "metadata": {},
   "source": [
    "first define all your @configurables\n",
    "\n",
    "define all external configurators -> it matters\n",
    "\n",
    "then parse the config file\n",
    "\n",
    "then run the code\n",
    "\n",
    "-> the order matters\n"
   ]
  },
  {
   "attachments": {},
   "cell_type": "markdown",
   "metadata": {},
   "source": [
    "what if we want to reuse this function, with different parameters?"
   ]
  },
  {
   "cell_type": "code",
   "execution_count": null,
   "metadata": {},
   "outputs": [],
   "source": []
  },
  {
   "cell_type": "code",
   "execution_count": null,
   "metadata": {},
   "outputs": [],
   "source": []
  },
  {
   "cell_type": "code",
   "execution_count": null,
   "metadata": {},
   "outputs": [],
   "source": []
  },
  {
   "cell_type": "code",
   "execution_count": null,
   "metadata": {},
   "outputs": [],
   "source": []
  }
 ],
 "metadata": {
  "kernelspec": {
   "display_name": "gin-kernel",
   "language": "python",
   "name": "gin-kernel"
  },
  "language_info": {
   "codemirror_mode": {
    "name": "ipython",
    "version": 3
   },
   "file_extension": ".py",
   "mimetype": "text/x-python",
   "name": "python",
   "nbconvert_exporter": "python",
   "pygments_lexer": "ipython3",
   "version": "3.9.16"
  },
  "orig_nbformat": 4
 },
 "nbformat": 4,
 "nbformat_minor": 2
}
