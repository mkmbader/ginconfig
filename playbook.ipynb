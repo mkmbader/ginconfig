{
 "cells": [
  {
   "cell_type": "code",
   "execution_count": 1,
   "metadata": {},
   "outputs": [],
   "source": [
    "import pandas as pd\n",
    "import gin\n"
   ]
  },
  {
   "attachments": {},
   "cell_type": "markdown",
   "metadata": {},
   "source": [
    "# Functions"
   ]
  },
  {
   "attachments": {},
   "cell_type": "markdown",
   "metadata": {},
   "source": [
    "The .REQUIRED statement makes specifying the variable name mandatory if using a config-file.\n",
    "Problem: what about type-hinting?"
   ]
  },
  {
   "cell_type": "code",
   "execution_count": 2,
   "metadata": {},
   "outputs": [],
   "source": [
    "@gin.configurable\n",
    "def hello_world(name:str=gin.REQUIRED, loc:str=gin.REQUIRED):\n",
    "    print('Hello %s, %s' %(name, loc))\n",
    "    return"
   ]
  },
  {
   "cell_type": "code",
   "execution_count": 3,
   "metadata": {},
   "outputs": [
    {
     "data": {
      "text/plain": [
       "ParsedConfigFileIncludesAndImports(filename='config.gin', imports=[], includes=[])"
      ]
     },
     "execution_count": 3,
     "metadata": {},
     "output_type": "execute_result"
    }
   ],
   "source": [
    "gin.enter_interactive_mode() # allows to change decorated functions\n",
    "gin.parse_config_file('config.gin')"
   ]
  },
  {
   "cell_type": "code",
   "execution_count": 6,
   "metadata": {},
   "outputs": [
    {
     "data": {
      "text/plain": [
       "'at home'"
      ]
     },
     "execution_count": 6,
     "metadata": {},
     "output_type": "execute_result"
    }
   ],
   "source": [
    "# extract value\n",
    "gin.query_parameter('hello_world.loc')"
   ]
  },
  {
   "attachments": {},
   "cell_type": "markdown",
   "metadata": {},
   "source": [
    "First simple example: using a function with and without gin-config.\n",
    "Interesting: local hardcoded function arguments overwrite config settings :)"
   ]
  },
  {
   "cell_type": "code",
   "execution_count": 10,
   "metadata": {},
   "outputs": [
    {
     "name": "stdout",
     "output_type": "stream",
     "text": [
      "Hello world, right now\n",
      "Hello 17, 13\n",
      "Hello world, at home\n",
      "Hello Mary, at home\n"
     ]
    }
   ],
   "source": [
    "\n",
    "hello_world('world', 'right now') # gin stuff is overwritten\n",
    "hello_world(17, 13) # no mandatory types \n",
    "hello_world('world') # -> partly overwrite possible, nice\n",
    "hello_world() # all config"
   ]
  },
  {
   "cell_type": "code",
   "execution_count": null,
   "metadata": {},
   "outputs": [],
   "source": []
  }
 ],
 "metadata": {
  "kernelspec": {
   "display_name": "gin-kernel",
   "language": "python",
   "name": "gin-kernel"
  },
  "language_info": {
   "codemirror_mode": {
    "name": "ipython",
    "version": 3
   },
   "file_extension": ".py",
   "mimetype": "text/x-python",
   "name": "python",
   "nbconvert_exporter": "python",
   "pygments_lexer": "ipython3",
   "version": "3.9.16"
  },
  "orig_nbformat": 4
 },
 "nbformat": 4,
 "nbformat_minor": 2
}
